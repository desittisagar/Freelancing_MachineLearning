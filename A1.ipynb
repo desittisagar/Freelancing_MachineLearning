{
 "cells": [
  {
   "cell_type": "markdown",
   "metadata": {
    "colab_type": "text",
    "id": "1cBt-DED-MC9"
   },
   "source": [
    "#**SIT 720 - Machine Learning**\n",
    "\n",
    "Lecturer: Chandan Karmakar | karmakar@deakin.edu.au\n",
    "\n",
    "School of Information Technology,\n",
    "<br/>Deakin University, VIC 3125, Australia."
   ]
  },
  {
   "cell_type": "markdown",
   "metadata": {
    "colab_type": "text",
    "id": "qSfW2iPaFFq5"
   },
   "source": [
    "#**Assessment Task 1 (20 marks)**\n",
    "\n",
    "##**Submission Instruction**\n",
    "1.  Student should insert Python code or text responses into the cell followed by the question.\n",
    "\n",
    "2.  For answers regarding discussion or explanation, **maximum five sentences are suggested**.\n",
    "\n",
    "3.  Rename this notebook file appending your student ID. For example, for student ID 1234, the submitted file name should be A0_1234.ipynb.\n",
    "\n",
    "4.  Insert your student ID and name in the following cell."
   ]
  },
  {
   "cell_type": "code",
   "execution_count": null,
   "metadata": {
    "colab": {},
    "colab_type": "code",
    "id": "45gFUaXcF8oG"
   },
   "outputs": [],
   "source": [
    "# Student ID: \n",
    "\n",
    "# Student name:\n"
   ]
  },
  {
   "cell_type": "markdown",
   "metadata": {
    "colab_type": "text",
    "id": "JtEbRsB1_P_j"
   },
   "source": [
    "\n",
    "\n",
    "##**Background**\n",
    "Selection of housing is always difficult for someone seeking for a suitable one as it includes various factors and preferences. People prefer to buy a house considering many criteria like- population, quality of life, financial capability, as well as social and natural environments around the housing block. In this assignment you will be helping people choosing suitable housing for them according to their needs.\n",
    "##**Dataset**\n",
    "**Dataset file name:** housing_dataset.csv\n",
    "\n",
    "**Dataset description:** Dataset contains total 10 features (columns). It contains the location, housing age, population, number of families in a housing (block), number of rooms, average income of the families in that housing, ocean proximity and other informaiton. Each row indicates a record of a housing block containing the features mentioned earlier.\n",
    "\n",
    "**Features:** \n",
    "\n",
    "1.   latitude (float): Latitude of the location of a housing in conventional geospace\n",
    "2.   longitude (float): Longitude of the location of a housing in conventional geospace\n",
    "3.   housing_age (int): Age of the housing in year, the higher number indicates the older housing\n",
    "4.    total_rooms (int): Total number of rooms in a housing\n",
    "5.    total_bedrooms (int): Total number of bedrooms in a housing\n",
    "6.    population (int): Total population of a housing\n",
    "7.    families (int): Total number of families living in a housing\n",
    "8.    average_income (float): Average income of the member of a housing in a scale of Tousand Dollar Per Month\n",
    "9.    ocean_proximity (string): Describing how close the housing is to the ocean\n",
    "10.   house_value (int): Average individual house price of a housing in Dollers\n"
   ]
  },
  {
   "cell_type": "markdown",
   "metadata": {
    "colab_type": "text",
    "id": "rQs2cqHo_7wC"
   },
   "source": [
    "\n",
    "\n",
    "##**Part-1: Basic Calculations:**  *(8 marks: 8 questions x 1 marks each)*\n",
    "\n",
    "\n",
    "1.   Find the distances of the farthest and nearest housing blocks from the house block described in the first row of the dataset."
   ]
  },
  {
   "cell_type": "code",
   "execution_count": 1,
   "metadata": {
    "colab": {},
    "colab_type": "code",
    "id": "O0r1-UqH__3s"
   },
   "outputs": [
    {
     "name": "stdout",
     "output_type": "stream",
     "text": [
      "Farthest Housing block from the 1st block  896.2777794337452\n",
      "Nearest Housing block from the 1st block  0.8776598462329537\n"
     ]
    }
   ],
   "source": [
    "# INSERT your code here.\n",
    "from math import radians, sin, cos, asin, sqrt\n",
    "import pandas as pd\n",
    "file = pd.read_csv(\"housing_dataset.csv\")\n",
    "fh_lon = file.iloc[0,0]\n",
    "fh_lat = file.iloc[0,1]\n",
    "\n",
    "def distance(lon1, lat1, lon2, lat2):\n",
    "    lon1 = radians(lon1)\n",
    "    lat1 = radians(lat1)\n",
    "    lon2 = radians(lon2)\n",
    "    lat2 = radians(lat2)\n",
    "    \n",
    "    dlon = lon2 - lon1\n",
    "    dlat = lat2 - lat1\n",
    "    \n",
    "    a = sin(dlat/2)**2 + cos(lat1)*cos(lat2) * sin(dlon/2)**2\n",
    "    c = 2 * asin(sqrt(a))\n",
    "    r = 6371\n",
    "    return (c*r)\n",
    "\n",
    "min_d = 9999999\n",
    "max_d = -1\n",
    "\n",
    "for i in range(1,20640):\n",
    "    lon = file.iloc[i,0]\n",
    "    lat = file.iloc[i,1]\n",
    "    d = distance(fh_lon, fh_lat, lon, lat)\n",
    "    #print(d)\n",
    "    if max_d < d:\n",
    "        #print(max_d, d)\n",
    "        max_d = d\n",
    "    if min_d > d:\n",
    "        #print(min_d, d)\n",
    "        min_d = d\n",
    "    \n",
    "print(\"Farthest Housing block from the 1st block \",max_d)\n",
    "print(\"Nearest Housing block from the 1st block \",min_d)"
   ]
  },
  {
   "cell_type": "markdown",
   "metadata": {
    "colab_type": "text",
    "id": "CGNHL-MAACPJ"
   },
   "source": [
    "2.   Calculate the average age of the house blocks near the ocean."
   ]
  },
  {
   "cell_type": "code",
   "execution_count": 3,
   "metadata": {
    "colab": {},
    "colab_type": "code",
    "id": "-PmJE7wPAHeQ"
   },
   "outputs": [
    {
     "name": "stdout",
     "output_type": "stream",
     "text": [
      "Average age of the house blocks near the ocean 29.347253574115875\n"
     ]
    }
   ],
   "source": [
    "# INSERT your code here.\n",
    "age = 0\n",
    "count = 0\n",
    "for i in range(20640):\n",
    "    if file.iloc[i,8] == \"NEAR OCEAN\":\n",
    "        age += file.iloc[i,2]\n",
    "        count += 1\n",
    "print(\"Average age of the house blocks near the ocean\", age/count)"
   ]
  },
  {
   "cell_type": "markdown",
   "metadata": {
    "colab_type": "text",
    "id": "7xx5_8BlASae"
   },
   "source": [
    "3.   Find the income of the housing block with the most and least population density (per family)."
   ]
  },
  {
   "cell_type": "code",
   "execution_count": 2,
   "metadata": {
    "colab": {},
    "colab_type": "code",
    "id": "mC3E-Fq6AYTm"
   },
   "outputs": [
    {
     "name": "stdout",
     "output_type": "stream",
     "text": [
      "The income of the housing block with most population density (per family).  1853.5504683431147\n",
      "The income of the housing block with least population density (per family).  7.462686567164178\n"
     ]
    }
   ],
   "source": [
    "# INSERT your code here.\n",
    "most_pop = -1\n",
    "most_inc = 0\n",
    "most_fam = 0\n",
    "min_pop = 9999999\n",
    "min_inc = 0\n",
    "min_fam = 0\n",
    "for i in range(20640):\n",
    "    pop = file.iloc[i,5]\n",
    "    if most_pop < pop:\n",
    "        most_pop = pop\n",
    "        most_inc = file.iloc[i,6]\n",
    "        most_fam = file.iloc[i,7]\n",
    "    if min_pop > pop:\n",
    "        min_pop = pop\n",
    "        min_inc = file.iloc[i,6]\n",
    "        min_fam = file.iloc[i,7]\n",
    "        \n",
    "#print(most_pop, most_fam, most_inc, most_inc/most_fam)\n",
    "print(\"The income of the housing block with most population density (per family). \",most_inc/most_fam)\n",
    "#print(min_pop, min_fam, min_inc, min_inc/min_fam)\n",
    "print(\"The income of the housing block with least population density (per family). \",min_inc/min_fam)"
   ]
  },
  {
   "cell_type": "markdown",
   "metadata": {
    "colab_type": "text",
    "id": "fvMmRTzpAd5J"
   },
   "source": [
    "4.   Calculate the price difference between the latest and oldest housing block from the dataset."
   ]
  },
  {
   "cell_type": "code",
   "execution_count": 4,
   "metadata": {
    "colab": {},
    "colab_type": "code",
    "id": "4rKQUPpyAfWQ"
   },
   "outputs": [
    {
     "name": "stdout",
     "output_type": "stream",
     "text": [
      "price difference between the latest and oldest housing block  131120.87117046345\n"
     ]
    }
   ],
   "source": [
    "# INSERT your code here.\n",
    "latest_block_age = min(file['housing_age'])\n",
    "oldest_block_age = max(file['housing_age'])\n",
    "\n",
    "# since there are multiple house blocks with the same housing_age, we will determine the average price of both\n",
    "# old and latest blocks respectively and find the difference between them. Simple.\n",
    "\n",
    "old_price = 0\n",
    "old_price_count = 0\n",
    "\n",
    "new_price = 0\n",
    "new_price_count = 0\n",
    "\n",
    "for i in range(20640):\n",
    "    if file.iloc[i,2] == oldest_block_age:\n",
    "        old_price += file.iloc[i,9]\n",
    "        old_price_count += 1\n",
    "        \n",
    "    if file.iloc[i,2] == latest_block_age:\n",
    "        new_price += file.iloc[i,9]\n",
    "        new_price_count += 1\n",
    "\n",
    "print(\"price difference between the latest and oldest housing block \", abs((old_price/old_price_count) - (new_price/new_price_count)))"
   ]
  },
  {
   "cell_type": "markdown",
   "metadata": {
    "colab_type": "text",
    "id": "pZl4zZM9Akg-"
   },
   "source": [
    "5.   Calculate the cheapest price per room from the dataset."
   ]
  },
  {
   "cell_type": "code",
   "execution_count": 5,
   "metadata": {
    "colab": {},
    "colab_type": "code",
    "id": "NgSh7WpaAlb1"
   },
   "outputs": [
    {
     "name": "stdout",
     "output_type": "stream",
     "text": [
      "The cheapest price per room  1.595444807757357\n",
      "The cheapest price per room  1.595444807757357\n"
     ]
    }
   ],
   "source": [
    "# INSERT your code here.\n",
    "import numpy as np\n",
    "\n",
    "# Method 1\n",
    "min_price = 999999999999\n",
    "for i in range(20640):\n",
    "    min_price = min(min_price, file.iloc[i,9]/file.iloc[i,3])\n",
    "print(\"The cheapest price per room \", min_price)\n",
    "\n",
    "# Method 2\n",
    "arr = np.array(file['house_value']/file['total_rooms'])\n",
    "print(\"The cheapest price per room \", min(arr))"
   ]
  },
  {
   "cell_type": "markdown",
   "metadata": {
    "colab_type": "text",
    "id": "YpRQNYwGAncM"
   },
   "source": [
    "6.   Calculate the population density (per family) for the most and least wealthy housing blocks in the dataset."
   ]
  },
  {
   "cell_type": "code",
   "execution_count": 6,
   "metadata": {
    "colab": {},
    "colab_type": "code",
    "id": "RtKpkz57AqVl"
   },
   "outputs": [
    {
     "name": "stdout",
     "output_type": "stream",
     "text": [
      "Population density (per family) for the most wealthy housing blocks  3.7142857142857144\n",
      "Population density (per family) for the least wealthy housing blocks  2.25\n"
     ]
    }
   ],
   "source": [
    "# INSERT your code here.\n",
    "most_wealthy = max(file['house_value'])\n",
    "m_pop_den = 0\n",
    "least_wealthy = min(file['house_value'])\n",
    "l_pop_den = 0\n",
    "\n",
    "for i in range(20640):\n",
    "    if file.iloc[i,9] == most_wealthy:\n",
    "        # population / families of most wealthy\n",
    "        m_pop_den = file.iloc[i,5] / file.iloc[i,6]     \n",
    "    \n",
    "    if file.iloc[i,9] == least_wealthy:\n",
    "        # population / families of least wealthy\n",
    "        l_pop_den = file.iloc[i,5] / file.iloc[i,6]\n",
    "        \n",
    "print(\"Population density (per family) for the most wealthy housing blocks \", m_pop_den)\n",
    "print(\"Population density (per family) for the least wealthy housing blocks \", l_pop_den)"
   ]
  },
  {
   "cell_type": "markdown",
   "metadata": {
    "colab_type": "text",
    "id": "nj1raWPgAsiy"
   },
   "source": [
    "7.   Calculate and print the total housing blocks located in the same place."
   ]
  },
  {
   "cell_type": "code",
   "execution_count": 28,
   "metadata": {
    "colab": {},
    "colab_type": "code",
    "id": "AHI-K9m-AwDR"
   },
   "outputs": [
    {
     "name": "stdout",
     "output_type": "stream",
     "text": [
      "The total housing blocks located in the same place with longitude & latitude \n",
      "\n",
      " longitude  latitude\n",
      "-124.18    40.78       3\n",
      "           40.79       2\n",
      "-124.17    40.80       3\n",
      "-124.16    40.78       3\n",
      "           40.79       3\n",
      "                      ..\n",
      "-115.52    32.97       2\n",
      "           32.98       2\n",
      "-115.49    32.67       3\n",
      "-115.37    32.81       2\n",
      "           32.82       2\n",
      "Length: 4353, dtype: int64\n"
     ]
    }
   ],
   "source": [
    "# INSERT your code here.\n",
    "\n",
    "same_places_houses = file.groupby(['longitude','latitude']).size()\n",
    "print(\"The total housing blocks located in the same place with longitude & latitude \\n\\n\",same_places_houses[same_places_houses>1])"
   ]
  },
  {
   "cell_type": "markdown",
   "metadata": {
    "colab_type": "text",
    "id": "44Ak48NQA1G8"
   },
   "source": [
    "8.   Calculate the price of expensive room grouped by ocean proximity."
   ]
  },
  {
   "cell_type": "code",
   "execution_count": 8,
   "metadata": {
    "colab": {},
    "colab_type": "code",
    "id": "wuMgmiElA2Eo"
   },
   "outputs": [
    {
     "name": "stdout",
     "output_type": "stream",
     "text": [
      "Price of expensive room at <1H OCEAN - 22500.0\n",
      "Price of expensive room at INLAND - 68750.0\n",
      "Price of expensive room at ISLAND - 451.8072289156627\n",
      "Price of expensive room at NEAR BAY - 62500.125\n",
      "Price of expensive room at NEAR OCEAN - 23333.333333333332\n"
     ]
    }
   ],
   "source": [
    "# INSERT your code here.\n",
    "file.groupby('ocean_proximity').count()\n",
    "\n",
    "lh_ocean_data = file[file['ocean_proximity'] == '<1H OCEAN']\n",
    "print(\"Price of expensive room at <1H OCEAN -\", max(lh_ocean_data['house_value']/lh_ocean_data['total_rooms']))\n",
    "\n",
    "inland_data = file[file['ocean_proximity'] == 'INLAND']\n",
    "print(\"Price of expensive room at INLAND -\", max(inland_data['house_value']/inland_data['total_rooms']))\n",
    "\n",
    "island_data = file[file['ocean_proximity'] == 'ISLAND']\n",
    "print(\"Price of expensive room at ISLAND -\", max(island_data['house_value']/island_data['total_rooms']))\n",
    "\n",
    "near_bay_data = file[file['ocean_proximity'] == 'NEAR BAY']\n",
    "print(\"Price of expensive room at NEAR BAY -\", max(near_bay_data['house_value']/near_bay_data['total_rooms']))\n",
    "\n",
    "near_ocean_data = file[file['ocean_proximity'] == 'NEAR OCEAN']\n",
    "print(\"Price of expensive room at NEAR OCEAN -\", max(near_ocean_data['house_value']/near_ocean_data['total_rooms']))"
   ]
  },
  {
   "cell_type": "markdown",
   "metadata": {
    "colab_type": "text",
    "id": "DtPZm2IpA4_u"
   },
   "source": [
    "##**Part-2: Visualization:**  *(6 marks: 3 question x 2 marks each)*\n",
    "\n",
    "\n",
    "1.   Draw the population scatter plot against housing age and another against ocean proximity. From the graph conclude an assumption."
   ]
  },
  {
   "cell_type": "code",
   "execution_count": 9,
   "metadata": {
    "colab": {},
    "colab_type": "code",
    "id": "iKJ8-NjgA9fE"
   },
   "outputs": [
    {
     "data": {
      "image/png": "[encoded data removed]",
      "text/plain": [
       "<Figure size 432x288 with 1 Axes>"
      ]
     },
     "metadata": {
      "needs_background": "light"
     },
     "output_type": "display_data"
    },
    {
     "data": {
      "image/png": "[encoded data removed]",
      "text/plain": [
       "<Figure size 432x288 with 1 Axes>"
      ]
     },
     "metadata": {
      "needs_background": "light"
     },
     "output_type": "display_data"
    }
   ],
   "source": [
    "# INSERT your code here.\n",
    "# Draw the population scatter plot against housing age and another against ocean proximity. From the graph conclude an assumption.\n",
    "import matplotlib.pyplot as plt\n",
    "\n",
    "colors = np.random.rand(20640)\n",
    "area = (10 * np.random.rand(20640))\n",
    "\n",
    "plt.scatter(file['population'], file['housing_age'], s= area, c = colors, alpha = 0.5)\n",
    "plt.xlabel(\"Population\")\n",
    "plt.ylabel(\"Housing Age\")\n",
    "plt.title(\"Population vs Housing_Age\")\n",
    "#plt.legend()\n",
    "plt.show()\n",
    "\n",
    "# It shows that Peole live on same places for years, so population increases with Housing age.\n",
    "\n",
    "plt.scatter(file['population'], file['ocean_proximity'], s= area, c = colors, alpha = 0.5)\n",
    "plt.xlabel(\"Population\")\n",
    "plt.ylabel(\"Ocean Proximity\")\n",
    "plt.title(\"Population vs Ocean_Proximity\")\n",
    "#plt.legend()\n",
    "plt.show()\n",
    "\n",
    "# More people lives at <1 hour to ocean and least people lives on island. more people lives inland than near oceans\n"
   ]
  },
  {
   "cell_type": "markdown",
   "metadata": {
    "colab_type": "text",
    "id": "WAm9CdIsA_yi"
   },
   "source": [
    "2.  Draw a bar diagram of average values of all suitable columns. (excluding latitude, longitude and ocean proximity of course)."
   ]
  },
  {
   "cell_type": "code",
   "execution_count": 10,
   "metadata": {
    "colab": {},
    "colab_type": "code",
    "id": "RKwoOm5OBC6w"
   },
   "outputs": [
    {
     "data": {
      "image/png": "[encoded data removed]",
      "text/plain": [
       "<Figure size 432x288 with 1 Axes>"
      ]
     },
     "metadata": {
      "needs_background": "light"
     },
     "output_type": "display_data"
    }
   ],
   "source": [
    "# INSERT your code here.\n",
    "\n",
    "x = ['Housing_Age', 'Rooms', 'Bedrooms', 'Population', 'Families', 'Avg_income', 'House_value']\n",
    "y = []\n",
    "file['total_bedrooms'].fillna(0, inplace = True)\n",
    "y.append(sum(file['housing_age'])/20640)\n",
    "y.append(sum(file['total_rooms'])/20640)\n",
    "y.append(sum(file['total_bedrooms'])/20640)\n",
    "y.append(sum(file['population'])/20640)\n",
    "y.append(sum(file['families'])/20640)\n",
    "y.append(sum(file['average_income'])/20640)\n",
    "y.append(sum(file['house_value'])/20640)\n",
    "\n",
    "plt.bar(x, y)\n",
    "plt.xticks(rotation=45)\n",
    "plt.ylabel(\"Average values of all comuns\")\n",
    "plt.title(\"Bar diagram of average values of all Columns\")\n",
    "plt.show()"
   ]
  },
  {
   "cell_type": "markdown",
   "metadata": {
    "colab_type": "text",
    "id": "EupiTHf8BEvA"
   },
   "source": [
    "3.   Visualize the differences in housing prices from the average price of housing using a bar diagram."
   ]
  },
  {
   "cell_type": "code",
   "execution_count": 24,
   "metadata": {
    "colab": {},
    "colab_type": "code",
    "id": "j6tBhj2PBIZK"
   },
   "outputs": [
    {
     "data": {
      "image/png": "[encoded data removed]",
      "text/plain": [
       "<Figure size 432x288 with 1 Axes>"
      ]
     },
     "metadata": {
      "needs_background": "light"
     },
     "output_type": "display_data"
    }
   ],
   "source": [
    "# INSERT your code here.\n",
    "\n",
    "average_price = (sum(file['house_value'])/20640)\n",
    "average_price\n",
    "# x = file.iloc[:40,9]\n",
    "\n",
    "# to compute 20640 data for bar plot requires lot of time, so test with small data.\n",
    "\n",
    "x = [(\"house\"+str(i)) for i in range(60)]\n",
    "y = [file.iloc[i,9] - average_price for i in range(60)]\n",
    "plt.title(\"Houses average price differences\")\n",
    "plt.xlabel(\"Houses\")\n",
    "plt.ylabel(\"Differences with average values\")\n",
    "plt.xticks(rotation = 45)\n",
    "#print(y)\n",
    "#file['house_value']\n",
    "plt.bar(x, y)\n",
    "plt.show()"
   ]
  },
  {
   "cell_type": "markdown",
   "metadata": {
    "colab_type": "text",
    "id": "FgBaJ0rWBKk-"
   },
   "source": [
    "##**Part-3: File Management:**  *(6 marks: 2 question x 3 marks each)*\n",
    "\n",
    " \n",
    "\n",
    "1.   Save the details of all housing blocks in a csv file having houses near oceans and  lower than the average of the housing value."
   ]
  },
  {
   "cell_type": "code",
   "execution_count": 25,
   "metadata": {
    "colab": {},
    "colab_type": "code",
    "id": "c0BR_AMxBOu_"
   },
   "outputs": [],
   "source": [
    "# INSERT your code here.\n",
    "\n",
    "file1 = file[(file['ocean_proximity'] == 'NEAR OCEAN') & (file['house_value'] < average_price)]\n",
    "file1.to_csv(\"new_housing_dataset1.csv\")"
   ]
  },
  {
   "cell_type": "markdown",
   "metadata": {
    "colab_type": "text",
    "id": "KDM2MY16-qHs"
   },
   "source": [
    "\n",
    "\n",
    "\n",
    "\n",
    "\n",
    "2.   Create a new housing dataset (a csv file) having only the location, total rooms and housing price information.\n",
    "\n",
    "\n",
    "\n",
    "\n"
   ]
  },
  {
   "cell_type": "code",
   "execution_count": 27,
   "metadata": {
    "colab": {},
    "colab_type": "code",
    "id": "uwmK7HfYdzHd"
   },
   "outputs": [],
   "source": [
    "# INSERT your code here.\n",
    "\n",
    "file2 = file[['longitude','latitude','total_rooms','house_value']]\n",
    "file2.to_csv(\"new_housing_datset2.csv\")"
   ]
  },
  {
   "cell_type": "code",
   "execution_count": null,
   "metadata": {},
   "outputs": [],
   "source": []
  }
 ],
 "metadata": {
  "colab": {
   "collapsed_sections": [],
   "name": "A1.ipynb",
   "provenance": []
  },
  "kernelspec": {
   "display_name": "Python 3",
   "language": "python",
   "name": "python3"
  },
  "language_info": {
   "codemirror_mode": {
    "name": "ipython",
    "version": 3
   },
   "file_extension": ".py",
   "mimetype": "text/x-python",
   "name": "python",
   "nbconvert_exporter": "python",
   "pygments_lexer": "ipython3",
   "version": "3.6.9"
  }
 },
 "nbformat": 4,
 "nbformat_minor": 1
}
